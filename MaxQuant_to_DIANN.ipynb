{
 "cells": [
  {
   "cell_type": "markdown",
   "metadata": {},
   "source": [
    "## MaxQuant output --> DIA-NN input"
   ]
  },
  {
   "cell_type": "code",
   "execution_count": 1,
   "metadata": {},
   "outputs": [],
   "source": [
    "import pandas as pd"
   ]
  },
  {
   "cell_type": "markdown",
   "metadata": {},
   "source": [
    "load relevant files"
   ]
  },
  {
   "cell_type": "code",
   "execution_count": 34,
   "metadata": {},
   "outputs": [],
   "source": [
    "# pandas read_fwf: with formatted lines. works for txt files\n",
    "maxq = pd.read_csv('/home/annerer/Dokumente/Network_Propagation/msms.txt', sep='\\s\\s',engine='python')"
   ]
  },
  {
   "cell_type": "code",
   "execution_count": 35,
   "metadata": {
    "collapsed": true,
    "jupyter": {
     "outputs_hidden": true
    }
   },
   "outputs": [
    {
     "data": {
      "text/html": [
       "<div>\n",
       "<style scoped>\n",
       "    .dataframe tbody tr th:only-of-type {\n",
       "        vertical-align: middle;\n",
       "    }\n",
       "\n",
       "    .dataframe tbody tr th {\n",
       "        vertical-align: top;\n",
       "    }\n",
       "\n",
       "    .dataframe thead th {\n",
       "        text-align: right;\n",
       "    }\n",
       "</style>\n",
       "<table border=\"1\" class=\"dataframe\">\n",
       "  <thead>\n",
       "    <tr style=\"text-align: right;\">\n",
       "      <th></th>\n",
       "      <th></th>\n",
       "      <th></th>\n",
       "      <th>Raw file\tScan number\tScan index\tSequence\tLength\tMissed cleavages\tModifications\tModified sequence\tOxidation (M) Probabilities\tOxidation (M) Score diffs\tAcetyl (Protein N-term)\tOxidation (M)\tProteins\tCharge\tFragmentation\tMass analyzer\tType\tScan event number\tIsotope index\tm/z\tMass\tMass error [ppm]\tMass error [Da]\tSimple mass error [ppm]\tRetention time\tPEP\tScore\tDelta score\tScore diff\tLocalization prob\tCombinatorics\tPIF\tFraction of total spectrum\tBase peak fraction\tPrecursor full scan number\tPrecursor Intensity\tPrecursor apex fraction\tPrecursor apex offset\tPrecursor apex offset time\tMatches\tIntensities\tMass deviations [Da]\tMass deviations [ppm]\tMasses\tNumber of matches\tIntensity coverage\tPeak coverage\tNeutral loss level\tETD identification type\tReverse\tAll scores\tAll sequences\tAll modified sequences\tReporter PIF\tReporter fraction\tid\tProtein group IDs\tPeptide ID\tMod. peptide ID\tEvidence ID\tOxidation (M) site IDs</th>\n",
       "    </tr>\n",
       "  </thead>\n",
       "  <tbody>\n",
       "    <tr>\n",
       "      <th>HeLaC19_DI_1ul_GA5_1_571\\t85257\\t85257\\tAAAAAAAAAAAATGTEAGPGTAGGSENGSEVAAQPAGLSGPAEVGPGAVGER\\t52\\t0\\tUnmodified\\t_AAAAAAAAAAAATGTEAGPGTAGGSENGSEVAAQPAGLSGPAEVGPGAVGER_</th>\n",
       "      <th>\\t0\\t0\\tsp|O60341|KDM1A_HUMAN;sp|O60341-2|KDM1A_HUMAN\\t4\\tHCD\\tTOF\\tTIMS-MULTI-MSMS\\t-1\\t-2147483648\\t1101.284\\t4401.1069\\t0.16122\\t0.00017755\\tNaN\\t68.766\\t1.9078E-15\\t75.654\\t75.255\\tNaN\\tNaN\\t1\\tNaN\\tNaN\\tNaN\\t-1\\tNaN\\tNaN\\t-1\\tNaN\\ty3;y4;y6;y7;y8;y9;y13;y14;y16;y17;y18;y22;y26;y30;y34;y36;y8-H2O;y18-H2O;y30-H2O;y8-NH3;y30-NH3;b3;b4;b6;b7;b8;b9;b10;b11;b12;b13;b14;b17;b18;b20;b24;b13-H2O;b14-H2O\\t50;50;50;100;500;200;200;300;20;10;500;8;30;200;10;30;30;70;10;20;40;20;20;100;100;200;200;300;200;200;200;40;20;40;10;20;30;20\\t-1.49516324654542E-07;0.00536535737114718;0.00164793211911274;-0.00240308952265877;-9.72276278616846E-05;-0.000738053182772092;-0.0010259255402616;-0.0013729520637753;-0.0120052475549528;-0.00475730584980738;-0.00552088375047788;0.0302180389264777;-0.0152768608268161;0.0066819262115132;-0.0444093345422516;-0.00860965096353539;-0.00285102375210045;-0.0012858966128988;0.0260328382755688;0.00193243665137288;0.0253536366767548;-0.00264989755154943;0.00120880560410797;-0.000802963720502703;0.000522917796615729;-0.000751621085896659;-0.000875356184565135;-0.0023117258996308;0.00189569635017506;-0.00031765657320193;0.00110662954796226;0.000841471822582207;0.0106540625920388;-0.0100695624385025;-0.0411428121501558;0.0440107545036881;0.00662361700869951;0.000361797371624561\\t-0.000413962785808444;11.6575846398251;2.80113670343165;-3.50629071489085;-0.130966703575468;-0.877117140815856;-0.858078803014829;-1.07041109555352;-8.26377341872295;-3.1220301529267;-3.40618774704547;15.1849059464469;-6.42643790358576;2.46812801122913;-14.6396586519577;-2.72326489035238;-3.93583129167623;-0.802269011547318;9.68031533079688;2.66412261953985;9.4243033082573;-12.3756858889943;4.23912478114223;-1.87946138627396;1.04947401455945;-1.3202433971891;-1.36701316498023;-3.24963246108766;2.42288256695221;-0.372201618891164;1.15938235674126;0.83188769219248;8.1165244406099;-7.35175900353762;-27.0003872284533;24.3176371728173;7.07286312131455;0.364160460698016\\t361.183009150316;460.246057559629;588.308352496281;685.365167369923;742.384325231628;841.453379973383;1195.60760230534;1282.63997774176;1452.75613774126;1523.78600358735;1620.83953101725;1990.00501109777;2377.18951867443;2707.28510884069;3033.49521993894;3161.51799776676;724.376514341452;1602.82473134381;2689.25519324232;725.355746465849;2690.23988802872;214.121267727552;285.154522812196;427.23076215712;498.266550063403;569.304938390086;640.342175912984;711.380726070499;782.41363243605;853.452959576773;954.499213764752;1011.52094264608;1312.63851541341;1369.68070276204;1523.78600358735;1809.8285697298;936.483132090991;993.510857634228\\t38\\t0.415139756389076\\t0.0854503464203233\\tNone\\tUnknown</th>\n",
       "      <th>75.6544326927598;0.399914632346519;0.0150231234040099\\tAAAAAAAAAAAATGTEAGPGTAGGSENGSEVAAQPAGLSGPAEVGPGAVGER;HELVDPLVELAFQEEEPNDCDLTDQDKVTYSLYADYK;GNNVLCIILVGIATMIVCALLCALFKVWMSWDRNCYK\\t_AAAAAAAAAAAATGTEAGPGTAGGSENGSEVAAQPAGLSGPAEVGPGAVGER_;_HELVDPLVELAFQEEEPNDCDLTDQDKVTYSLYADYK_;_GNNVLCIILVGIATMIVCALLCALFKVWMSWDRNCYK_</th>\n",
       "      <td>\\t0\\t536\\t0\\t0\\t0</td>\n",
       "    </tr>\n",
       "    <tr>\n",
       "      <th>HeLaC19_DI_1ul_GA5_1_572\\t85485\\t85485\\tAAAAAAAAAAAATGTEAGPGTAGGSENGSEVAAQPAGLSGPAEVGPGAVGER\\t52\\t0\\tUnmodified\\t_AAAAAAAAAAAATGTEAGPGTAGGSENGSEVAAQPAGLSGPAEVGPGAVGER_</th>\n",
       "      <th>\\t0\\t0\\tsp|O60341|KDM1A_HUMAN;sp|O60341-2|KDM1A_HUMAN\\t4\\tHCD\\tTOF\\tTIMS-MULTI-MSMS\\t-1\\t-2147483648\\t1101.284\\t4401.1069\\t1.4024\\t0.0015444\\tNaN\\t68.752\\t9.6575E-11\\t61.665\\t61.238\\tNaN\\tNaN\\t1\\tNaN\\tNaN\\tNaN\\t-1\\tNaN\\tNaN\\t-1\\tNaN\\ty2;y4;y7;y8;y9;y10;y12;y13;y14;y15;y16;y18;y20;y26;y29;y31;y34;y46;y18-H2O;y7-NH3;b4;b5;b7;b8;b9;b10;b14;b15;b16;b18;b20;b44;b14-H2O;b15-H2O;b16-H2O;b18-H2O\\t10;30;200;600;200;100;200;200;200;20;70;1000;60;20;20;70;100;10;40;20;30;100;200;400;400;600;50;30;30;50;10;8;30;30;30;20\\t-0.00532335143367391;0.00381489070923635;0.00314273559911271;-0.00406383900349283;-0.000122820635965581;-0.00241540498780068;-0.00955823275876355;-0.00732240906108927;-0.0031699470212061;-0.0103124064796702;-0.00114647789996525;-0.00480709332850893;0.00515455142499377;-0.0758000654391253;0.0554366878759538;0.00177684544041767;-0.0103766747361078;-0.058454657092625;0.00104705956164253;0.0121691901176746;-0.0012932574630895;-0.000545227614395571;-0.00207478203833489;-0.00127848399836239;-0.00246986632703283;-0.00197743885360069;-0.0059826692192928;0.000322595653187818;0.00909862340336076;0.00367781017598645;0.0511807296943516;0.0106006289092875;-0.0236682548019189;-0.000139871229066557;0.000433634349974454;0.013719721589041\\t-17.5014177503117;8.28877900223315;4.58552780222007;-5.47400740036486;-0.145962603145537;-2.48883136064464;-8.39476330176476;-6.12439272285707;-2.47142037912867;-7.38852389299926;-0.789180262060009;-2.96580590088138;2.83228853296523;-31.8856090456564;20.9178086191038;0.639537879717818;-3.42073759823352;-14.7020606359524;0.653259876263158;18.2085175458117;-4.53524672469569;-1.53070671363752;-4.16397853980869;-2.24569071683553;-3.8570943313789;-2.77972077448352;-5.91448837662198;0.289955600592047;7.32812639627591;2.68518573914253;33.5899074496542;2.89577180261303;-23.8222684429674;-0.127787743044577;0.35439193793063;10.1503781675625\\t304.166868628634;460.247608026291;685.359621544801;742.388291843003;841.452764740836;970.497650421388;1138.59467088896;1195.61389878886;1282.64177473672;1395.73298117658;1452.7452789716;1620.83881722683;1819.92454688128;2377.25004187904;2650.21489035542;2778.32712770926;3033.46118727914;3975.94993926769;1602.82239838764;668.324045988782;285.157024875263;356.193390633214;498.269147763238;569.305465252998;640.343770423127;711.380391783453;1011.52776678712;1112.56913999635;1241.6029570648;1369.66695538942;1523.69368004551;3660.72661517109;993.534887686402;1094.55903777693;1223.60105736755;1351.64634879171\\t36\\t0.364808512722137\\t0.0533333333333333\\tNone\\tUnknown</th>\n",
       "      <th>61.6646501306747;0.426467149718731;3.05471792196011\\tAAAAAAAAAAAATGTEAGPGTAGGSENGSEVAAQPAGLSGPAEVGPGAVGER;MFLFQFVNYYSSCFYIAFFKGKFVGYPGDPVYWLGK;TFRVVDCDQFTQVFLESQGIELNPPEKMALDPYTELR\\t_AAAAAAAAAAAATGTEAGPGTAGGSENGSEVAAQPAGLSGPAEVGPGAVGER_;_M(Oxidation (M))FLFQFVNYYSSCFYIAFFKGKFVGYPGDPVYWLGK_;_TFRVVDCDQFTQVFLESQGIELNPPEKM(Oxidation (M))ALDPYTELR_</th>\n",
       "      <td>\\t1\\t536\\t0\\t0\\t1</td>\n",
       "    </tr>\n",
       "    <tr>\n",
       "      <th>HeLaC19_DI_1ul_GA5_1_573\\t84962\\t84962\\tAAAAAAAAAAAATGTEAGPGTAGGSENGSEVAAQPAGLSGPAEVGPGAVGER\\t52\\t0\\tUnmodified\\t_AAAAAAAAAAAATGTEAGPGTAGGSENGSEVAAQPAGLSGPAEVGPGAVGER_</th>\n",
       "      <th>\\t0\\t0\\tsp|O60341|KDM1A_HUMAN;sp|O60341-2|KDM1A_HUMAN\\t4\\tHCD\\tTOF\\tTIMS-MULTI-MSMS\\t-1\\t-2147483648\\t1101.284\\t4401.1069\\t2.1781\\t0.0023987\\tNaN\\t68.753\\t7.246E-16\\t44.798\\t44.682\\tNaN\\tNaN\\t1\\tNaN\\tNaN\\tNaN\\t-1\\tNaN\\tNaN\\t-1\\tNaN\\ty4;y7;y8;y12;y13;y14;y16;y17;y18;y19;y20;y21;y24;y26;y30;y34;y40;y18-H2O;b3;b5;b6;b7;b8;b9;b10;b11;b13;b15;b17;b20;b27;b49\\t40;100;400;300;200;100;100;10;900;100;90;100;200;9;300;100;10;60;20;100;200;200;400;400;600;600;200;40;30;10;20;9\\t0.000534400133915369;0.00027128104318308;-0.00136452118954367;-0.00816643759480939;-0.00610209114347526;-0.00723768640114031;0.00433835386343162;0.0422564745779255;-0.00320046562205789;-0.0100166580418772;-0.00891269787575766;-0.0108861705566596;0.0285561192495152;-0.0109636015145043;-0.00763390040629019;-0.00851931129591321;-0.101121251192126;0.00817238759213978;-0.00265069179880584;0.000890696049452799;-0.00218625205053513;0.00148225268412716;-0.00168052063986579;-0.00322160729956522;-0.000660285380149617;-0.0010553816994161;-0.00263597092362033;-0.00488298998288883;-0.0116603983924506;0.00587096827757705;0.0383457908096716;0.0194727216962747\\t1.16110614286361;0.395821256567267;-1.83802218588633;-7.17239223589046;-5.10373572759296;-5.64277851411284;2.98632548026286;27.7320951032958;-1.974575608907;-5.72739614958122;-4.89725192188169;-5.75690054338106;12.9442733232016;-4.61200982133395;-2.81974736031583;-2.80844750806334;-28.4867057250911;5.09877072517505;-12.3793951768784;2.50060687131213;-5.11724614788911;2.97482449462335;-2.951876550766;-5.03105310978147;-0.928176556912446;-1.34887439971687;-2.76161630096798;-4.3889111790858;-8.88302456131517;3.85300127964894;17.91899756934;4.81769225928435\\t460.250888516866;685.362492999357;742.38559252519;1138.59327909379;1195.61267847094;1282.6458424761;1452.73979413984;1523.73898980692;1620.83721059912;1748.90260430294;1819.93861413058;1890.97770139106;2206.08129452355;2377.18520541511;2707.29942466731;3033.45932991569;3549.76992313499;1602.81527305961;214.121268521799;356.19195470955;427.23214544545;498.265590728516;569.30586728964;640.344522164099;711.37907462998;782.416583514099;954.502956365223;1112.57434558198;1312.66082987439;1523.73898980692;2139.95178364679;4041.9189620815\\t32\\t0.359788951444136\\t0.0445402298850575\\tNone\\tUnknown</th>\n",
       "      <th>44.7978885796681;0.116130027192087;0.194337365196474\\tAAAAAAAAAAAATGTEAGPGTAGGSENGSEVAAQPAGLSGPAEVGPGAVGER;GILKSPDWVQFADQLILEGQVDLNEDFGELMSVHMADNK;NNLIQQKNMAMLAQQMQLANAMMPGAPLQPVVCREYQR\\t_AAAAAAAAAAAATGTEAGPGTAGGSENGSEVAAQPAGLSGPAEVGPGAVGER_;_GILKSPDWVQFADQLILEGQVDLNEDFGELMSVHMADNK_;_NNLIQQKNMAM(Oxidation (M))LAQQMQLANAMMPGAPLQPVVCREYQR_</th>\n",
       "      <td>\\t2\\t536\\t0\\t0\\t2</td>\n",
       "    </tr>\n",
       "    <tr>\n",
       "      <th>HeLaC19_DI_1ul_GA5_1_574\\t85553\\t85553\\tAAAAAAAAAAAATGTEAGPGTAGGSENGSEVAAQPAGLSGPAEVGPGAVGER\\t52\\t0\\tUnmodified\\t_AAAAAAAAAAAATGTEAGPGTAGGSENGSEVAAQPAGLSGPAEVGPGAVGER_</th>\n",
       "      <th>\\t0\\t0\\tsp|O60341|KDM1A_HUMAN;sp|O60341-2|KDM1A_HUMAN\\t4\\tHCD\\tTOF\\tTIMS-MULTI-MSMS\\t-1\\t-2147483648\\t1101.284\\t4401.1069\\t2.095\\t0.0023072\\tNaN\\t68.746\\t5.0492E-16\\t46.678\\t46.631\\tNaN\\tNaN\\t1\\tNaN\\tNaN\\tNaN\\t-1\\tNaN\\tNaN\\t-1\\tNaN\\ty3;y4;y8;y9;y10;y12;y13;y14;y16;y18;y19;y28;y31;y35;y36;y8-NH3;b4;b6;b7;b8;b9;b10;b11;b12;b13;b14;b17;b18;b21;b34;b50;b18-H2O\\t30;10;200;90;20;50;100;100;40;500;30;10;20;60;30;10;20;90;90;200;60;200;300;200;80;30;30;80;5;20;3;10\\t0.00284785369274232;-0.00415436713939243;-0.00307697809114416;-0.00365460155342134;-0.0134686753912092;-0.0101206250988071;0.00158714584927111;-0.00120013567379829;-0.00230331685611418;-0.00400456074339672;0.00344203936856502;0.0262517346031927;-0.0117628303919446;-0.00495258545151955;0.00102974924266164;-0.00627755937830443;0.000163319742398471;-0.000649188329305161;0.000120716454432568;-0.00184622564745496;-0.00150907231045494;-0.000670959521926306;-0.00462042276274133;-0.00528497219193014;-0.00328959494629544;-0.0029879162400448;0.00797393203038155;-0.0468611075830268;-0.00110650331976103;0.0811936069467265;-0.108548399791289;-0.00341122199642996\\t7.88485636558094;-9.02621791984876;-4.14470731179648;-4.34318641209058;-13.877954252213;-8.88869442184525;1.3274834611455;-0.935676305374066;-1.5854913144764;-2.47067301426302;1.96812895615134;10.1232090472736;-4.23376101067386;-1.60253096459987;0.32571454063581;-8.6543580259;0.57273909597221;-1.51952672998821;0.242272648996451;-3.24294059865042;-2.3566631619226;-0.943181400447645;-5.90529624176157;-6.19242264369582;-3.44639340476931;-2.95387352109648;6.07472328116069;-34.2122428732865;-0.681011599629003;29.1831733311301;-26.4812362117731;-2.52372136080646\\t361.180161147107;460.255577284139;742.387304982091;841.456296521753;970.508703691791;1138.5952332813;1195.60498923395;1282.63980492537;1452.74643581056;1620.83801469424;1748.88914560553;2593.2226115851;2778.34066738509;3090.47722691345;3161.50835836656;725.363956461878;285.155568298058;427.230608381729;498.266952264745;569.306032994647;640.34280962911;711.379085304122;782.420148555163;853.457926892392;954.503609989246;1011.52477203414;1312.64119554397;1369.71749430718;1624.79364575262;2782.20624006355;4099.06844692659;1351.6634797353\\t32\\t0.369832559206883\\t0.0864864864864865\\tNone\\tUnknown</th>\n",
       "      <th>46.6780025121517;0.046648234726199;0.51194851003746\\tAAAAAAAAAAAATGTEAGPGTAGGSENGSEVAAQPAGLSGPAEVGPGAVGER;AHLGLLWEPDGGTQLFEAMHSGVLYSCQRHAAAMIAIYR;HHPPVLVSSAASSQAEADKMSGTSTPGPSLPPPGAAPEAGPSAPSR\\t_AAAAAAAAAAAATGTEAGPGTAGGSENGSEVAAQPAGLSGPAEVGPGAVGER_;_AHLGLLWEPDGGTQLFEAM(Oxidation (M))HSGVLYSCQRHAAAM(Oxidation (M))IAIYR_;_HHPPVLVSSAASSQAEADKM(Oxidation (M))SGTSTPGPSLPPPGAAPEAGPSAPSR_</th>\n",
       "      <td>\\t3\\t536\\t0\\t0\\t3</td>\n",
       "    </tr>\n",
       "    <tr>\n",
       "      <th>HeLaC19_DI_1ul_GA5_1_576\\t86208\\t86208\\tAAAAAAAAAAAATGTEAGPGTAGGSENGSEVAAQPAGLSGPAEVGPGAVGER\\t52\\t0\\tUnmodified\\t_AAAAAAAAAAAATGTEAGPGTAGGSENGSEVAAQPAGLSGPAEVGPGAVGER_</th>\n",
       "      <th>\\t0\\t0\\tsp|O60341|KDM1A_HUMAN;sp|O60341-2|KDM1A_HUMAN\\t4\\tHCD\\tTOF\\tTIMS-MULTI-MSMS\\t-1\\t-2147483648\\t1101.284\\t4401.1069\\t-1.4428\\t-0.001589\\tNaN\\t68.745\\t5.7906E-22\\t62.572\\t62.502\\tNaN\\tNaN\\t1\\tNaN\\tNaN\\tNaN\\t-1\\tNaN\\tNaN\\t-1\\tNaN\\ty3;y4;y7;y8;y9;y10;y11;y12;y13;y14;y16;y17;y18;y19;y20;y22;y29;y34;y35;y38;y20-H2O;b4;b5;b7;b8;b9;b10;b11;b12;b13;b15;b18;b20;b40;b50;b13-H2O;b18-H2O\\t30;40;200;700;300;100;30;200;400;200;30;20;1000;100;20;50;60;200;90;5;30;20;90;300;400;600;600;600;400;300;20;70;20;10;10;100;40\\t0.00181043327546604;-0.0031689319237671;0.000254178569889518;0.000131831561702711;-0.00302776397927573;-0.00181891548447766;-0.00455057899853273;-0.00280413678137847;-0.000948775670622126;-0.00406662248155953;0.00361106812397338;-0.00133638825332127;0.00176224623533017;-0.00932266166933005;-0.0148514850304764;-0.0118936087221755;0.00431893657560067;0.00051054944151474;-0.00208228025348944;0.0471149000190962;0.0185331990730901;0.000936013546379399;0.00248765658915318;0.00296277780279297;0.0013411943294841;-0.000257889055774285;0.00124291730458026;0.00122683023562331;-0.00126402441321716;0.000747807809602818;-0.0119717912925807;0.00309681276416995;-0.0377218945536697;-0.0966205298504974;0.0154133803416698;0.00626707442268071;0.00538290422377941\\t5.01253465752473;-6.88517177207716;0.370867338296273;0.177578644777554;-3.59824538399288;-1.8742102071392;-4.36910012619581;-2.46281972610142;-0.793551103234109;-3.17050303424118;2.48569381160363;-0.877020297068789;1.08724776276338;-5.33058007106634;-8.1604052204044;-5.97654627683758;1.62962380470102;0.168306512721006;-0.673773671357919;13.8918384418154;10.2853614880891;3.2824752057771;6.98406493896755;5.94619949966601;2.35585390080082;-0.40273671507468;1.74719874983687;1.56800589352918;-1.48106934002267;0.783455363501545;-10.7603730590892;2.26099595843478;-24.7554309799097;-29.5961387637301;3.76032912802895;6.6921355248078;3.98245519442992\\t361.181198567525;460.254591848924;685.36251010183;742.384096172438;841.455669684179;970.497053931884;1041.5368993832;1138.58791679298;1195.60752515547;1282.64267141218;1452.74052142558;1523.78258266975;1620.83224788726;1748.90191030657;1819.94455291773;1990.04712274542;2650.26600810672;3033.45030005496;3090.47435660825;3391.55254478608;1801.90060354733;285.154795604254;356.190357749011;498.264110203397;569.30284557467;640.341558445856;711.377171427295;782.414301302164;853.453905944613;954.49957258649;1112.58143438329;1369.66753638684;1523.78258266975;3264.63295167765;4098.94448514646;936.483488633577;1351.65468560908\\t37\\t0.545543096410408\\t0.134831460674157\\tNone\\tUnknown</th>\n",
       "      <th>62.5723338942624;0.0706173311072747;0.0136796582376594\\tAAAAAAAAAAAATGTEAGPGTAGGSENGSEVAAQPAGLSGPAEVGPGAVGER;MFLFQFVNYYSSCFYIAFFKGKFVGYPGDPVYWLGK;EAEPLYMYVMLRNRDDSVLFGLQANDVMFDVSYVELK\\t_AAAAAAAAAAAATGTEAGPGTAGGSENGSEVAAQPAGLSGPAEVGPGAVGER_;_M(Oxidation (M))FLFQFVNYYSSCFYIAFFKGKFVGYPGDPVYWLGK_;_EAEPLYM(Oxidation (M))YVMLRNRDDSVLFGLQANDVM(Oxidation (M))FDVSYVELK_</th>\n",
       "      <td>\\t4\\t536\\t0\\t0\\t4</td>\n",
       "    </tr>\n",
       "  </tbody>\n",
       "</table>\n",
       "</div>"
      ],
      "text/plain": [
       "                                                                                                                                                         Raw file\\tScan number\\tScan index\\tSequence\\tLength\\tMissed cleavages\\tModifications\\tModified sequence\\tOxidation (M) Probabilities\\tOxidation (M) Score diffs\\tAcetyl (Protein N-term)\\tOxidation (M)\\tProteins\\tCharge\\tFragmentation\\tMass analyzer\\tType\\tScan event number\\tIsotope index\\tm/z\\tMass\\tMass error [ppm]\\tMass error [Da]\\tSimple mass error [ppm]\\tRetention time\\tPEP\\tScore\\tDelta score\\tScore diff\\tLocalization prob\\tCombinatorics\\tPIF\\tFraction of total spectrum\\tBase peak fraction\\tPrecursor full scan number\\tPrecursor Intensity\\tPrecursor apex fraction\\tPrecursor apex offset\\tPrecursor apex offset time\\tMatches\\tIntensities\\tMass deviations [Da]\\tMass deviations [ppm]\\tMasses\\tNumber of matches\\tIntensity coverage\\tPeak coverage\\tNeutral loss level\\tETD identification type\\tReverse\\tAll scores\\tAll sequences\\tAll modified sequences\\tReporter PIF\\tReporter fraction\\tid\\tProtein group IDs\\tPeptide ID\\tMod. peptide ID\\tEvidence ID\\tOxidation (M) site IDs\n",
       "HeLaC19_DI_1ul_GA5_1_571\\t85257\\t85257\\tAAAAAAA... \\t0\\t0\\tsp|O60341|KDM1A_HUMAN;sp|O60341-2|KDM1A... 75.6544326927598;0.399914632346519;0.0150231234...                                  \\t0\\t536\\t0\\t0\\t0                                                                                                                                                                                                                                                                                                                                                                                                                                                                                                                                                                                                                                                                                                                                                                                                                                                                                                                                                                 \n",
       "HeLaC19_DI_1ul_GA5_1_572\\t85485\\t85485\\tAAAAAAA... \\t0\\t0\\tsp|O60341|KDM1A_HUMAN;sp|O60341-2|KDM1A... 61.6646501306747;0.426467149718731;3.0547179219...                                  \\t1\\t536\\t0\\t0\\t1                                                                                                                                                                                                                                                                                                                                                                                                                                                                                                                                                                                                                                                                                                                                                                                                                                                                                                                                                                 \n",
       "HeLaC19_DI_1ul_GA5_1_573\\t84962\\t84962\\tAAAAAAA... \\t0\\t0\\tsp|O60341|KDM1A_HUMAN;sp|O60341-2|KDM1A... 44.7978885796681;0.116130027192087;0.1943373651...                                  \\t2\\t536\\t0\\t0\\t2                                                                                                                                                                                                                                                                                                                                                                                                                                                                                                                                                                                                                                                                                                                                                                                                                                                                                                                                                                 \n",
       "HeLaC19_DI_1ul_GA5_1_574\\t85553\\t85553\\tAAAAAAA... \\t0\\t0\\tsp|O60341|KDM1A_HUMAN;sp|O60341-2|KDM1A... 46.6780025121517;0.046648234726199;0.5119485100...                                  \\t3\\t536\\t0\\t0\\t3                                                                                                                                                                                                                                                                                                                                                                                                                                                                                                                                                                                                                                                                                                                                                                                                                                                                                                                                                                 \n",
       "HeLaC19_DI_1ul_GA5_1_576\\t86208\\t86208\\tAAAAAAA... \\t0\\t0\\tsp|O60341|KDM1A_HUMAN;sp|O60341-2|KDM1A... 62.5723338942624;0.0706173311072747;0.013679658...                                  \\t4\\t536\\t0\\t0\\t4                                                                                                                                                                                                                                                                                                                                                                                                                                                                                                                                                                                                                                                                                                                                                                                                                                                                                                                                                                 "
      ]
     },
     "execution_count": 35,
     "metadata": {},
     "output_type": "execute_result"
    }
   ],
   "source": [
    "maxq.head()"
   ]
  },
  {
   "cell_type": "markdown",
   "metadata": {},
   "source": [
    "include picture or outline of how to structure the file\n",
    "for orientation."
   ]
  },
  {
   "cell_type": "code",
   "execution_count": 37,
   "metadata": {},
   "outputs": [],
   "source": [
    "# df.columns = df.columns.str.strip().str.lower().str.replace(' ', '_').str.replace('(', '').str.replace(')', '')"
   ]
  },
  {
   "cell_type": "code",
   "execution_count": null,
   "metadata": {},
   "outputs": [],
   "source": []
  },
  {
   "cell_type": "code",
   "execution_count": null,
   "metadata": {},
   "outputs": [],
   "source": []
  }
 ],
 "metadata": {
  "kernelspec": {
   "display_name": "Python 3",
   "language": "python",
   "name": "python3"
  },
  "language_info": {
   "codemirror_mode": {
    "name": "ipython",
    "version": 3
   },
   "file_extension": ".py",
   "mimetype": "text/x-python",
   "name": "python",
   "nbconvert_exporter": "python",
   "pygments_lexer": "ipython3",
   "version": "3.5.2"
  }
 },
 "nbformat": 4,
 "nbformat_minor": 4
}
